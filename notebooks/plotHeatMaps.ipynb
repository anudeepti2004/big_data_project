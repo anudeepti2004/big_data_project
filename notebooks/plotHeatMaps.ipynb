{
 "cells": [
  {
   "cell_type": "code",
   "execution_count": 1,
   "metadata": {
    "collapsed": true
   },
   "outputs": [],
   "source": [
    "import gmaps\n",
    "gmaps.configure(api_key=\"APIKEY_ENTER\")"
   ]
  },
  {
   "cell_type": "code",
   "execution_count": 2,
   "metadata": {
    "collapsed": true
   },
   "outputs": [],
   "source": [
    "arr = []\n",
    "with open('2015_10_coor.out','rb') as f:\n",
    "    for l in f:\n",
    "        a=l.strip().split('\\'')\n",
    "        arr.append((float(a[3]),float(a[1])))"
   ]
  },
  {
   "cell_type": "code",
   "execution_count": 3,
   "metadata": {},
   "outputs": [
    {
     "data": {
      "text/plain": [
       "100000"
      ]
     },
     "execution_count": 3,
     "metadata": {},
     "output_type": "execute_result"
    }
   ],
   "source": [
    "import random\n",
    "N=100000\n",
    "rand_smpl1 = [arr[i] for i in random.sample(xrange(len(arr)), N) ]\n",
    "\n",
    "len(rand_smpl1)"
   ]
  },
  {
   "cell_type": "code",
   "execution_count": 6,
   "metadata": {},
   "outputs": [
    {
     "data": {
      "application/vnd.jupyter.widget-view+json": {
       "model_id": "720293f323254784af3e59f0d42ff9d3"
      }
     },
     "metadata": {},
     "output_type": "display_data"
    }
   ],
   "source": [
    "fig = gmaps.figure()\n",
    "heatmap_layer = gmaps.heatmap_layer(rand_smpl1)\n",
    "fig.add_layer(heatmap_layer)\n",
    "fig"
   ]
  },
  {
   "cell_type": "code",
   "execution_count": 28,
   "metadata": {},
   "outputs": [],
   "source": [
    "heatmap_layer.max_intensity = 300\n",
    "heatmap_layer.point_radius = 7"
   ]
  },
  {
   "cell_type": "code",
   "execution_count": 7,
   "metadata": {},
   "outputs": [
    {
     "data": {
      "text/plain": [
       "100000"
      ]
     },
     "execution_count": 7,
     "metadata": {},
     "output_type": "execute_result"
    }
   ],
   "source": [
    "arr = []\n",
    "with open('2015_8_coor.out','rb') as f:\n",
    "    for l in f:\n",
    "        a=l.strip().split('\\'')\n",
    "        arr.append((float(a[3]),float(a[1])))\n",
    "N=100000\n",
    "rand_smpl2 = [arr[i] for i in random.sample(xrange(len(arr)), N) ]\n",
    "\n",
    "len(rand_smpl2)"
   ]
  },
  {
   "cell_type": "code",
   "execution_count": 12,
   "metadata": {},
   "outputs": [
    {
     "data": {
      "application/vnd.jupyter.widget-view+json": {
       "model_id": "2b35ce7a9f064655a8ae2ea44d113775"
      }
     },
     "metadata": {},
     "output_type": "display_data"
    }
   ],
   "source": [
    "fig2 = gmaps.figure()\n",
    "heatmap_layer2 = gmaps.heatmap_layer(rand_smpl2)\n",
    "fig2.add_layer(heatmap_layer2)\n",
    "fig2"
   ]
  },
  {
   "cell_type": "code",
   "execution_count": 29,
   "metadata": {
    "collapsed": true
   },
   "outputs": [],
   "source": [
    "heatmap_layer2.max_intensity = 300\n",
    "heatmap_layer2.point_radius = 7"
   ]
  },
  {
   "cell_type": "code",
   "execution_count": null,
   "metadata": {
    "collapsed": true
   },
   "outputs": [],
   "source": []
  }
 ],
 "metadata": {
  "anaconda-cloud": {},
  "kernelspec": {
   "display_name": "Python [conda root]",
   "language": "python",
   "name": "conda-root-py"
  },
  "language_info": {
   "codemirror_mode": {
    "name": "ipython",
    "version": 2
   },
   "file_extension": ".py",
   "mimetype": "text/x-python",
   "name": "python",
   "nbconvert_exporter": "python",
   "pygments_lexer": "ipython2",
   "version": "2.7.12"
  }
 },
 "nbformat": 4,
 "nbformat_minor": 2
}
